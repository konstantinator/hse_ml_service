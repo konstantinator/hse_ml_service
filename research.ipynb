{
 "cells": [
  {
   "cell_type": "code",
   "execution_count": 5,
   "metadata": {},
   "outputs": [],
   "source": [
    "import numpy as np\n",
    "import pandas as pd"
   ]
  },
  {
   "cell_type": "code",
   "execution_count": 8,
   "metadata": {},
   "outputs": [
    {
     "name": "stdout",
     "output_type": "stream",
     "text": [
      "README.md           clients.csv         students.csv\n",
      "cars.csv            credit_scoring.csv  students_clean.csv\n"
     ]
    }
   ],
   "source": [
    "ls ./../data/stepik_from_idea_to_mvp/datasets"
   ]
  },
  {
   "cell_type": "code",
   "execution_count": null,
   "metadata": {},
   "outputs": [],
   "source": [
    "pd.read_csv()"
   ]
  }
 ],
 "metadata": {
  "kernelspec": {
   "display_name": "hse_venv",
   "language": "python",
   "name": "hse_venv"
  },
  "language_info": {
   "codemirror_mode": {
    "name": "ipython",
    "version": 3
   },
   "file_extension": ".py",
   "mimetype": "text/x-python",
   "name": "python",
   "nbconvert_exporter": "python",
   "pygments_lexer": "ipython3",
   "version": "3.8.9"
  },
  "orig_nbformat": 4,
  "vscode": {
   "interpreter": {
    "hash": "4f19ff9c9a0513c40ad0a939d750c86ece5034ede9d634eaedd54a0da087c4ff"
   }
  }
 },
 "nbformat": 4,
 "nbformat_minor": 2
}
